{
 "cells": [
  {
   "cell_type": "markdown",
   "metadata": {},
   "source": [
    "##  The Data Analysis of titanic"
   ]
  },
  {
   "cell_type": "code",
   "execution_count": 81,
   "metadata": {
    "collapsed": true
   },
   "outputs": [],
   "source": [
    "# import the package\n",
    "import pandas as pd\n",
    "import matplotlib.pyplot as plt"
   ]
  },
  {
   "cell_type": "markdown",
   "metadata": {},
   "source": [
    "## 加载CSV数据"
   ]
  },
  {
   "cell_type": "code",
   "execution_count": 82,
   "metadata": {},
   "outputs": [
    {
     "name": "stdout",
     "output_type": "stream",
     "text": [
      "PassengerId                          1\n",
      "Survived                             0\n",
      "Pclass                               3\n",
      "Name           Braund, Mr. Owen Harris\n",
      "Sex                               male\n",
      "Age                                 22\n",
      "SibSp                                1\n",
      "Parch                                0\n",
      "Ticket                       A/5 21171\n",
      "Fare                              7.25\n",
      "Cabin                              NaN\n",
      "Embarked                             S\n",
      "Name: 0, dtype: object\n"
     ]
    }
   ],
   "source": [
    "titanic_data_list = pd.read_csv('titanic-data.csv')\n",
    "print titanic_data_list.iloc[0]"
   ]
  },
  {
   "cell_type": "markdown",
   "metadata": {},
   "source": [
    "## 提出问题\n",
    "- 乘客的经济地位与是否生还之间的关系？\n",
    "- 乘客的出发港与是否生还之间的关系？\n",
    "- 男性与女性之间的生还比例？\n",
    "- 有哪些因素会让船上的人生还率更高？"
   ]
  },
  {
   "cell_type": "markdown",
   "metadata": {},
   "source": [
    "## 修正数据类型"
   ]
  },
  {
   "cell_type": "code",
   "execution_count": 83,
   "metadata": {},
   "outputs": [],
   "source": [
    "def parse_maybe_int(number):\n",
    "    \"\"\"\n",
    "    Parse string to int.\n",
    "    @param number: the data to pase.\n",
    "    @return: the result of parsing.\n",
    "    \"\"\"\n",
    "    if number == '':\n",
    "        return None\n",
    "    else:\n",
    "        return int(number)\n",
    "    \n",
    "def parse_maybe_float(number):\n",
    "    \"\"\"\n",
    "    Parse string to float.\n",
    "    @param number: the data to pase.\n",
    "    @return: the result of parsing.\n",
    "    \"\"\"\n",
    "    if number == '':\n",
    "        return None\n",
    "    else:\n",
    "        return float(number)\n",
    "    \n",
    "def parse_embarkation(embarkation):\n",
    "    \"\"\"\n",
    "    Convert the abbreviation to the full name of embarkation.\n",
    "    @param number: the abbreviation of embarkation.\n",
    "    @return: the full name of embarkation.\n",
    "    \"\"\"\n",
    "    if embarkation == 'C':\n",
    "        return 'Cherbourg'\n",
    "    elif embarkation == 'Q':\n",
    "        return 'Queenstown'\n",
    "    elif embarkation == 'S':\n",
    "        return 'Southampton'\n",
    "    else:\n",
    "        return None\n",
    "\n",
    "# The dictionary for the Ticket Class\n",
    "pclass = {}\n",
    "pclass['1'] = 'Upper'\n",
    "pclass['2'] = 'Middle'\n",
    "pclass['3'] = 'Lower'\n",
    "\n",
    "# The dictionary for the sex\n",
    "sex = {}\n",
    "sex['1'] = 'male'\n",
    "sex['2'] = 'female'\n",
    "\n",
    "# The dictionary for the survival\n",
    "survival = {}\n",
    "survival['0'] = 'No'\n",
    "survival['1'] = 'Yes'"
   ]
  },
  {
   "cell_type": "markdown",
   "metadata": {},
   "source": [
    "## 探索数据"
   ]
  },
  {
   "cell_type": "code",
   "execution_count": 84,
   "metadata": {},
   "outputs": [
    {
     "name": "stdout",
     "output_type": "stream",
     "text": [
      "<class 'pandas.core.frame.DataFrame'>\n",
      "RangeIndex: 891 entries, 0 to 890\n",
      "Data columns (total 12 columns):\n",
      "PassengerId    891 non-null int64\n",
      "Survived       891 non-null int64\n",
      "Pclass         891 non-null int64\n",
      "Name           891 non-null object\n",
      "Sex            891 non-null object\n",
      "Age            714 non-null float64\n",
      "SibSp          891 non-null int64\n",
      "Parch          891 non-null int64\n",
      "Ticket         891 non-null object\n",
      "Fare           891 non-null float64\n",
      "Cabin          204 non-null object\n",
      "Embarked       889 non-null object\n",
      "dtypes: float64(2), int64(5), object(5)\n",
      "memory usage: 83.6+ KB\n",
      "None\n"
     ]
    }
   ],
   "source": [
    "print titanic_data_list.info()"
   ]
  },
  {
   "cell_type": "markdown",
   "metadata": {},
   "source": [
    "从统计结果可以看出Age栏出现了数据的缺失，基于DataFrame数据的特点，这里不许要对数据进行进一步的处理。"
   ]
  },
  {
   "cell_type": "code",
   "execution_count": 85,
   "metadata": {},
   "outputs": [],
   "source": [
    "def survived_percentage(key):\n",
    "    \"\"\"\n",
    "    Calculate the survived percentage of different type\n",
    "    \"\"\"\n",
    "    return titanic_data_list.groupby(key)['Survived'].mean()\n",
    "\n",
    "def group_count(key):\n",
    "    \"\"\"\n",
    "    Calculate the group count for the specified column\n",
    "    \"\"\"\n",
    "    return titanic_data_list.groupby(key)['PassengerId'].count()\n",
    "\n",
    "def draw_histogram(title, xData, xLabel):\n",
    "    xticks = [i for i in range(len(xData))]\n",
    "    \n",
    "    plt.title(title)\n",
    "    plt.ylabel('percentage')\n",
    "    plt.xticks(xticks,xLabel)\n",
    "    plt.bar(left = xticks,height = xData, width=0.2 )\n",
    "    plt.show()\n",
    "    \n",
    "def draw_pie(key):\n",
    "    a = titanic_data_list.groupby(key)['PassengerId'].count().plot(kind='pie', autopct='%.0f%%')\n",
    "    plt.title(\"The rate of group count\" + str(key))\n",
    "    plt.show()\n",
    "    \n",
    "def describe(key, xLabel):\n",
    "    xData = survived_percentage(key)\n",
    "    group = group_count(key)\n",
    "    \n",
    "    indexList = xData.index.tolist()\n",
    "    print \"The survival rate of \" + str(key)\n",
    "    for a in indexList:\n",
    "        print str(a) + \":\" + str(xData[a]) + \" in \" + str(group[a])\n",
    "    draw_pie(key)\n",
    "    draw_histogram(key, xData, xLabel)"
   ]
  },
  {
   "cell_type": "markdown",
   "metadata": {},
   "source": [
    "## 表中数据的基本统计参数"
   ]
  },
  {
   "cell_type": "code",
   "execution_count": 86,
   "metadata": {},
   "outputs": [
    {
     "data": {
      "text/html": [
       "<div>\n",
       "<style>\n",
       "    .dataframe thead tr:only-child th {\n",
       "        text-align: right;\n",
       "    }\n",
       "\n",
       "    .dataframe thead th {\n",
       "        text-align: left;\n",
       "    }\n",
       "\n",
       "    .dataframe tbody tr th {\n",
       "        vertical-align: top;\n",
       "    }\n",
       "</style>\n",
       "<table border=\"1\" class=\"dataframe\">\n",
       "  <thead>\n",
       "    <tr style=\"text-align: right;\">\n",
       "      <th></th>\n",
       "      <th>PassengerId</th>\n",
       "      <th>Survived</th>\n",
       "      <th>Pclass</th>\n",
       "      <th>Age</th>\n",
       "      <th>SibSp</th>\n",
       "      <th>Parch</th>\n",
       "      <th>Fare</th>\n",
       "    </tr>\n",
       "  </thead>\n",
       "  <tbody>\n",
       "    <tr>\n",
       "      <th>count</th>\n",
       "      <td>891.000000</td>\n",
       "      <td>891.000000</td>\n",
       "      <td>891.000000</td>\n",
       "      <td>714.000000</td>\n",
       "      <td>891.000000</td>\n",
       "      <td>891.000000</td>\n",
       "      <td>891.000000</td>\n",
       "    </tr>\n",
       "    <tr>\n",
       "      <th>mean</th>\n",
       "      <td>446.000000</td>\n",
       "      <td>0.383838</td>\n",
       "      <td>2.308642</td>\n",
       "      <td>29.699118</td>\n",
       "      <td>0.523008</td>\n",
       "      <td>0.381594</td>\n",
       "      <td>32.204208</td>\n",
       "    </tr>\n",
       "    <tr>\n",
       "      <th>std</th>\n",
       "      <td>257.353842</td>\n",
       "      <td>0.486592</td>\n",
       "      <td>0.836071</td>\n",
       "      <td>14.526497</td>\n",
       "      <td>1.102743</td>\n",
       "      <td>0.806057</td>\n",
       "      <td>49.693429</td>\n",
       "    </tr>\n",
       "    <tr>\n",
       "      <th>min</th>\n",
       "      <td>1.000000</td>\n",
       "      <td>0.000000</td>\n",
       "      <td>1.000000</td>\n",
       "      <td>0.420000</td>\n",
       "      <td>0.000000</td>\n",
       "      <td>0.000000</td>\n",
       "      <td>0.000000</td>\n",
       "    </tr>\n",
       "    <tr>\n",
       "      <th>25%</th>\n",
       "      <td>223.500000</td>\n",
       "      <td>0.000000</td>\n",
       "      <td>2.000000</td>\n",
       "      <td>20.125000</td>\n",
       "      <td>0.000000</td>\n",
       "      <td>0.000000</td>\n",
       "      <td>7.910400</td>\n",
       "    </tr>\n",
       "    <tr>\n",
       "      <th>50%</th>\n",
       "      <td>446.000000</td>\n",
       "      <td>0.000000</td>\n",
       "      <td>3.000000</td>\n",
       "      <td>28.000000</td>\n",
       "      <td>0.000000</td>\n",
       "      <td>0.000000</td>\n",
       "      <td>14.454200</td>\n",
       "    </tr>\n",
       "    <tr>\n",
       "      <th>75%</th>\n",
       "      <td>668.500000</td>\n",
       "      <td>1.000000</td>\n",
       "      <td>3.000000</td>\n",
       "      <td>38.000000</td>\n",
       "      <td>1.000000</td>\n",
       "      <td>0.000000</td>\n",
       "      <td>31.000000</td>\n",
       "    </tr>\n",
       "    <tr>\n",
       "      <th>max</th>\n",
       "      <td>891.000000</td>\n",
       "      <td>1.000000</td>\n",
       "      <td>3.000000</td>\n",
       "      <td>80.000000</td>\n",
       "      <td>8.000000</td>\n",
       "      <td>6.000000</td>\n",
       "      <td>512.329200</td>\n",
       "    </tr>\n",
       "  </tbody>\n",
       "</table>\n",
       "</div>"
      ],
      "text/plain": [
       "       PassengerId    Survived      Pclass         Age       SibSp  \\\n",
       "count   891.000000  891.000000  891.000000  714.000000  891.000000   \n",
       "mean    446.000000    0.383838    2.308642   29.699118    0.523008   \n",
       "std     257.353842    0.486592    0.836071   14.526497    1.102743   \n",
       "min       1.000000    0.000000    1.000000    0.420000    0.000000   \n",
       "25%     223.500000    0.000000    2.000000   20.125000    0.000000   \n",
       "50%     446.000000    0.000000    3.000000   28.000000    0.000000   \n",
       "75%     668.500000    1.000000    3.000000   38.000000    1.000000   \n",
       "max     891.000000    1.000000    3.000000   80.000000    8.000000   \n",
       "\n",
       "            Parch        Fare  \n",
       "count  891.000000  891.000000  \n",
       "mean     0.381594   32.204208  \n",
       "std      0.806057   49.693429  \n",
       "min      0.000000    0.000000  \n",
       "25%      0.000000    7.910400  \n",
       "50%      0.000000   14.454200  \n",
       "75%      0.000000   31.000000  \n",
       "max      6.000000  512.329200  "
      ]
     },
     "execution_count": 86,
     "metadata": {},
     "output_type": "execute_result"
    }
   ],
   "source": [
    "titanic_data_list.describe()"
   ]
  },
  {
   "cell_type": "markdown",
   "metadata": {},
   "source": [
    "这里呢？为了方便将所有列都进行了统计学相关的计算，但是Pclass、PassengerId、SibSp、Parch列对我们是没有实际的意义的，可以忽略。由于没有总体数据，这里只能够以样本数据来推总体数据，\n",
    "- Survived列：从表中推测全船的存活率为0.383838.\n",
    "- Fare列：从表中推测全船人的平均收入为32.304208\n",
    "- Age列：从表中推测全船人的平均年龄为29.699118"
   ]
  },
  {
   "cell_type": "markdown",
   "metadata": {},
   "source": [
    "## 不同经济地位的乘客生还率"
   ]
  },
  {
   "cell_type": "code",
   "execution_count": 87,
   "metadata": {},
   "outputs": [
    {
     "name": "stdout",
     "output_type": "stream",
     "text": [
      "The survival rate of Pclass\n",
      "1:0.62962962963 in 216\n",
      "2:0.472826086957 in 184\n",
      "3:0.242362525458 in 491\n"
     ]
    },
    {
     "data": {
      "image/png": "[encoded data removed]",
      "text/plain": [
       "<matplotlib.figure.Figure at 0xc49cba8>"
      ]
     },
     "metadata": {},
     "output_type": "display_data"
    },
    {
     "data": {
      "image/png": "[encoded data removed]",
      "text/plain": [
       "<matplotlib.figure.Figure at 0xbebd780>"
      ]
     },
     "metadata": {},
     "output_type": "display_data"
    }
   ],
   "source": [
    "describe('Pclass', [1, 2, 3])"
   ]
  },
  {
   "cell_type": "markdown",
   "metadata": {},
   "source": [
    "饼状图显示的是不同经济地位的人员数量比例；柱状体显示的是不同经济地位的人员存活率。从柱形图中可以看出生存率与经济地位成正相关。但是这里由于位于第3经济地位的样本数明显高于其它两个等级，相对来说第3经济地位的生存率相比前两个要更可信点。"
   ]
  },
  {
   "cell_type": "markdown",
   "metadata": {},
   "source": [
    "## 不同出发港的乘客生还率"
   ]
  },
  {
   "cell_type": "code",
   "execution_count": 88,
   "metadata": {},
   "outputs": [
    {
     "name": "stdout",
     "output_type": "stream",
     "text": [
      "The survival rate of Embarked\n",
      "C:0.553571428571 in 168\n",
      "Q:0.38961038961 in 77\n",
      "S:0.336956521739 in 644\n"
     ]
    },
    {
     "data": {
      "image/png": "[encoded data removed]",
      "text/plain": [
       "<matplotlib.figure.Figure at 0xc0356d8>"
      ]
     },
     "metadata": {},
     "output_type": "display_data"
    },
    {
     "data": {
      "image/png": "[encoded data removed]",
      "text/plain": [
       "<matplotlib.figure.Figure at 0xbe801d0>"
      ]
     },
     "metadata": {},
     "output_type": "display_data"
    }
   ],
   "source": [
    "describe('Embarked', ['Cherbourg', 'Queenstown', 'Southampton'])"
   ]
  },
  {
   "cell_type": "markdown",
   "metadata": {},
   "source": [
    "饼状图显示的是不同港口登陆的人员数量比例；柱状体显示的是不同港口登陆的人员存活率。从图一可以看出在Southampton上岸的人要明显高于其它另个，所以这个生存率的结果没有实际的借鉴意义。"
   ]
  },
  {
   "cell_type": "markdown",
   "metadata": {},
   "source": [
    "## 男性与女性的生还率"
   ]
  },
  {
   "cell_type": "code",
   "execution_count": 89,
   "metadata": {},
   "outputs": [
    {
     "name": "stdout",
     "output_type": "stream",
     "text": [
      "The survival rate of Sex\n",
      "female:0.742038216561 in 314\n",
      "male:0.188908145581 in 577\n"
     ]
    },
    {
     "data": {
      "image/png": "[encoded data removed]",
      "text/plain": [
       "<matplotlib.figure.Figure at 0xc391d68>"
      ]
     },
     "metadata": {},
     "output_type": "display_data"
    },
    {
     "data": {
      "image/png": "[encoded data removed]",
      "text/plain": [
       "<matplotlib.figure.Figure at 0xc4a1860>"
      ]
     },
     "metadata": {},
     "output_type": "display_data"
    }
   ],
   "source": [
    "describe('Sex', ['male', 'female'])"
   ]
  },
  {
   "cell_type": "markdown",
   "metadata": {},
   "source": [
    "饼状图显示的是不同性别的人员数量比例；柱状体显示的是不同性别的人员存活率。从图中可以看出不管是人数比例还是生存率，女性的值都远大于男性，所以这里认为性别与生存率之间相关。"
   ]
  },
  {
   "cell_type": "markdown",
   "metadata": {},
   "source": [
    "## 缺陷：\n",
    "- 样本量比较少，泰坦尼克号上有2000多人，但是实际的样本量却只提供了800多。而且提供的都是乘客的数据，但是船上还有船员，这对数据解析是有一定的偏差的。\n",
    "- 年龄确实部分样本数据，会导致在预测年龄相关的数据时误差比较大。"
   ]
  },
  {
   "cell_type": "markdown",
   "metadata": {},
   "source": [
    "## 结论\n",
    "- 经济地位、性别这些因素影响乘客的生存率"
   ]
  }
 ],
 "metadata": {
  "kernelspec": {
   "display_name": "Python 2",
   "language": "python",
   "name": "python2"
  },
  "language_info": {
   "codemirror_mode": {
    "name": "ipython",
    "version": 2
   },
   "file_extension": ".py",
   "mimetype": "text/x-python",
   "name": "python",
   "nbconvert_exporter": "python",
   "pygments_lexer": "ipython2",
   "version": "2.7.13"
  }
 },
 "nbformat": 4,
 "nbformat_minor": 2
}
