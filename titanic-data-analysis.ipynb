{
 "cells": [
  {
   "cell_type": "markdown",
   "metadata": {},
   "source": [
    "##  The Data Analysis of titanic"
   ]
  },
  {
   "cell_type": "code",
   "execution_count": 192,
   "metadata": {},
   "outputs": [],
   "source": [
    "# import the package\n",
    "import unicodecsv\n",
    "import pandas as pd\n",
    "import numpy as np\n",
    "import matplotlib.pyplot as plt"
   ]
  },
  {
   "cell_type": "markdown",
   "metadata": {},
   "source": [
    "## 加载CSV数据"
   ]
  },
  {
   "cell_type": "code",
   "execution_count": 193,
   "metadata": {
    "collapsed": true
   },
   "outputs": [],
   "source": [
    "def get_data_from_file(file):\n",
    "    \"\"\"\n",
    "    Get data set from the csv file and return a list variable contains \n",
    "    all data set.\n",
    "    @param file: The path of file and filename you want get.You can use\n",
    "    absolute path and relative path.\n",
    "    @return: A list variable\n",
    "    \"\"\"\n",
    "    with open(file, 'rb') as f:\n",
    "        reader = unicodecsv.DictReader(f)\n",
    "        return pd.Series(list(reader))"
   ]
  },
  {
   "cell_type": "code",
   "execution_count": 194,
   "metadata": {},
   "outputs": [
    {
     "name": "stdout",
     "output_type": "stream",
     "text": [
      "{u'Fare': u'7.25', u'Name': u'Braund, Mr. Owen Harris', u'Embarked': u'S', u'Age': u'22', u'Parch': u'0', u'Pclass': u'3', u'Sex': u'male', u'Survived': u'0', u'SibSp': u'1', u'PassengerId': u'1', u'Ticket': u'A/5 21171', u'Cabin': u''}\n"
     ]
    }
   ],
   "source": [
    "titanic_data_list = get_data_from_file('titanic-data.csv')\n",
    "print titanic_data_list[0]"
   ]
  },
  {
   "cell_type": "markdown",
   "metadata": {},
   "source": [
    "## 提出问题\n",
    "- 乘客的经济地位与是否生还之间的关系？\n",
    "- 乘客的出发港与是否生还之间的关系？\n",
    "- 男性与女性之间的生还比例？\n",
    "- 有哪些因素会让船上的人生还率更高？"
   ]
  },
  {
   "cell_type": "markdown",
   "metadata": {},
   "source": [
    "## 修正数据类型"
   ]
  },
  {
   "cell_type": "code",
   "execution_count": 195,
   "metadata": {
    "collapsed": true
   },
   "outputs": [],
   "source": [
    "def parse_maybe_int(number):\n",
    "    \"\"\"\n",
    "    Parse string to int.\n",
    "    @param number: the data to pase.\n",
    "    @return: the result of parsing.\n",
    "    \"\"\"\n",
    "    if number == '':\n",
    "        return None\n",
    "    else:\n",
    "        return int(number)\n",
    "    \n",
    "def parse_maybe_float(number):\n",
    "    \"\"\"\n",
    "    Parse string to float.\n",
    "    @param number: the data to pase.\n",
    "    @return: the result of parsing.\n",
    "    \"\"\"\n",
    "    if number == '':\n",
    "        return None\n",
    "    else:\n",
    "        return float(number)\n",
    "    \n",
    "def parse_embarkation(embarkation):\n",
    "    \"\"\"\n",
    "    Convert the abbreviation to the full name of embarkation.\n",
    "    @param number: the abbreviation of embarkation.\n",
    "    @return: the full name of embarkation.\n",
    "    \"\"\"\n",
    "    if embarkation == 'C':\n",
    "        return 'Cherbourg'\n",
    "    elif embarkation == 'Q':\n",
    "        return 'Queenstown'\n",
    "    elif embarkation == 'S':\n",
    "        return 'Southampton'\n",
    "    else:\n",
    "        return None\n",
    "\n",
    "# The dictionary for the Ticket Class\n",
    "pclass = {}\n",
    "pclass['1'] = 'Upper'\n",
    "pclass['2'] = 'Middle'\n",
    "pclass['3'] = 'Lower'\n",
    "\n",
    "# The dictionary for the sex\n",
    "sex = {}\n",
    "sex['1'] = 'male'\n",
    "sex['2'] = 'female'\n",
    "\n",
    "# The dictionary for the survival\n",
    "survival = {}\n",
    "survival['0'] = 'No'\n",
    "survival['1'] = 'Yes'"
   ]
  },
  {
   "cell_type": "code",
   "execution_count": 196,
   "metadata": {
    "scrolled": true
   },
   "outputs": [
    {
     "name": "stdout",
     "output_type": "stream",
     "text": [
      "{u'Fare': u'7.25', u'Name': u'Braund, Mr. Owen Harris', u'Embarked': 'Southampton', u'Age': 22.0, u'Parch': 0, u'Pclass': 3, u'Sex': u'male', u'Survived': 0, u'SibSp': 1, u'PassengerId': 1, u'Ticket': u'A/5 21171', u'Cabin': u''}\n"
     ]
    }
   ],
   "source": [
    "# Covert the data type\n",
    "for titanic_data in titanic_data_list:\n",
    "    titanic_data['PassengerId'] = parse_maybe_int(titanic_data['PassengerId'])\n",
    "    titanic_data['Survived'] = parse_maybe_int(titanic_data['Survived'])\n",
    "    titanic_data['Pclass'] = parse_maybe_int(titanic_data['Pclass'])\n",
    "    titanic_data['Age'] = parse_maybe_float(titanic_data['Age'])\n",
    "    titanic_data['SibSp'] = parse_maybe_int(titanic_data['SibSp'])\n",
    "    titanic_data['Parch'] = parse_maybe_int(titanic_data['Parch'])\n",
    "    titanic_data['Embarked'] = parse_embarkation(titanic_data['Embarked'])\n",
    "\n",
    "print titanic_data_list[0]"
   ]
  },
  {
   "cell_type": "markdown",
   "metadata": {},
   "source": [
    "## 探索数据"
   ]
  },
  {
   "cell_type": "code",
   "execution_count": 197,
   "metadata": {},
   "outputs": [
    {
     "name": "stdout",
     "output_type": "stream",
     "text": [
      "The number of passager:\n",
      "891\n",
      "The number of passger who doesn't have age:\n",
      "177\n"
     ]
    }
   ],
   "source": [
    "print \"The number of passager:\"\n",
    "print len(titanic_data_list)\n",
    "print \"The number of passger who doesn't have age:\"\n",
    "print sum(1 for a in titanic_data_list if a['Age'] == None)"
   ]
  },
  {
   "cell_type": "code",
   "execution_count": 198,
   "metadata": {
    "collapsed": true
   },
   "outputs": [],
   "source": [
    "def survived_percentage(dif_survived_count, dif_count):\n",
    "    \"\"\"\n",
    "    Calculate the survived percentage of different type\n",
    "    \"\"\"\n",
    "    return pd.Series([1.0*x/y for x, y in zip(dif_survived_count, dif_count)])\n",
    "\n",
    "def draw(title, xData, xLabel):\n",
    "    xticks = [i for i in range(len(xData))]\n",
    "    \n",
    "    plt.title(title)\n",
    "    plt.ylabel('Pertange')\n",
    "    plt.xticks(xticks,xLabel)\n",
    "    plt.bar(left = xticks,height = xData, width=0.2 )\n",
    "    plt.show()"
   ]
  },
  {
   "cell_type": "markdown",
   "metadata": {},
   "source": [
    "## 部分乘客缺失年龄记录"
   ]
  },
  {
   "cell_type": "code",
   "execution_count": 199,
   "metadata": {},
   "outputs": [],
   "source": [
    "titanic_age_list = []\n",
    "for titanic_data in titanic_data_list:\n",
    "    if titanic_data['Age'] != None:\n",
    "        titanic_age_list.append(titanic_data['Age'])"
   ]
  },
  {
   "cell_type": "markdown",
   "metadata": {},
   "source": [
    "## 不同经济地位的乘客生还率"
   ]
  },
  {
   "cell_type": "code",
   "execution_count": 200,
   "metadata": {},
   "outputs": [
    {
     "data": {
      "image/png": "[encoded data removed]",
      "text/plain": [
       "<matplotlib.figure.Figure at 0xb1ab128>"
      ]
     },
     "metadata": {},
     "output_type": "display_data"
    }
   ],
   "source": [
    "dif_pclass_survived = [sum(a['Survived'] for a in titanic_data_list if a['Pclass'] == 1),\n",
    "                       sum(a['Survived'] for a in titanic_data_list if a['Pclass'] == 2),\n",
    "                       sum(a['Survived'] for a in titanic_data_list if a['Pclass'] == 3)]\n",
    "\n",
    "dif_pclass_count = [sum(1 for a in titanic_data_list if a['Pclass'] == 1),\n",
    "                    sum(1 for a in titanic_data_list if a['Pclass'] == 2),\n",
    "                    sum(1 for a in titanic_data_list if a['Pclass'] == 3)]\n",
    "\n",
    "pclass_survived_percentage = survived_percentage(dif_pclass_survived, dif_pclass_count)\n",
    "draw('Pclass', pclass_survived_percentage, [1, 2, 3])"
   ]
  },
  {
   "cell_type": "markdown",
   "metadata": {},
   "source": [
    "## 不同出发港的乘客生还率"
   ]
  },
  {
   "cell_type": "code",
   "execution_count": 201,
   "metadata": {},
   "outputs": [
    {
     "data": {
      "image/png": "[encoded data removed]",
      "text/plain": [
       "<matplotlib.figure.Figure at 0xb023e10>"
      ]
     },
     "metadata": {},
     "output_type": "display_data"
    }
   ],
   "source": [
    "dif_embarkation_survived = [sum(a['Survived'] for a in titanic_data_list if a['Embarked'] == 'Cherbourg'),\n",
    "                       sum(a['Survived'] for a in titanic_data_list if a['Embarked'] == 'Queenstown'),\n",
    "                       sum(a['Survived'] for a in titanic_data_list if a['Embarked'] == 'Southampton')]\n",
    "\n",
    "dif_embarkation_count = [sum(1 for a in titanic_data_list if a['Embarked'] == 'Cherbourg'),\n",
    "                    sum(1 for a in titanic_data_list if a['Embarked'] == 'Queenstown'),\n",
    "                    sum(1 for a in titanic_data_list if a['Embarked'] == 'Southampton')]\n",
    "\n",
    "pclass_survived_percentage = survived_percentage(dif_embarkation_survived, dif_embarkation_count)\n",
    "\n",
    "draw(\"Embarkation\", pclass_survived_percentage, ['Cherbourg', 'Queenstown', 'Southampton'])"
   ]
  },
  {
   "cell_type": "markdown",
   "metadata": {},
   "source": [
    "## 男性与女性的生还率"
   ]
  },
  {
   "cell_type": "code",
   "execution_count": 202,
   "metadata": {},
   "outputs": [
    {
     "data": {
      "image/png": "[encoded data removed]",
      "text/plain": [
       "<matplotlib.figure.Figure at 0x1084c550>"
      ]
     },
     "metadata": {},
     "output_type": "display_data"
    }
   ],
   "source": [
    "dif_sex_survived = [sum(a['Survived'] for a in titanic_data_list if a['Sex'] == 'male'),\n",
    "                       sum(a['Survived'] for a in titanic_data_list if a['Sex'] == 'female')]\n",
    "\n",
    "dif_sex_count = [sum(1 for a in titanic_data_list if a['Sex'] == 'male'),\n",
    "                    sum(1 for a in titanic_data_list if a['Sex'] == 'female')]\n",
    "\n",
    "sex_survived_percentage = survived_percentage(dif_sex_survived, dif_sex_count)\n",
    "\n",
    "draw(\"Sex\", sex_survived_percentage, ['male', 'female'])"
   ]
  },
  {
   "cell_type": "markdown",
   "metadata": {},
   "source": [
    "## 分享发现\n",
    "- 乘客的经济地位越高，生还的可能性越大\n",
    "- 在Cherbourg上船的乘客生还率最高，接下来以此是Queestown, Southampton.\n",
    "- 男性的生还率非常的低；相反女性的生还率就比较高.\n",
    "- 经济地位高、在Cherbourg海港上船、女性这些因素都会使乘客的生还率更高"
   ]
  }
 ],
 "metadata": {
  "kernelspec": {
   "display_name": "Python 2",
   "language": "python",
   "name": "python2"
  },
  "language_info": {
   "codemirror_mode": {
    "name": "ipython",
    "version": 2
   },
   "file_extension": ".py",
   "mimetype": "text/x-python",
   "name": "python",
   "nbconvert_exporter": "python",
   "pygments_lexer": "ipython2",
   "version": "2.7.13"
  }
 },
 "nbformat": 4,
 "nbformat_minor": 2
}
